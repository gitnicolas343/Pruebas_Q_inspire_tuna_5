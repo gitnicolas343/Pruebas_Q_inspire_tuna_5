{
 "cells": [
  {
   "cell_type": "code",
   "execution_count": 14,
   "id": "a9a79d24",
   "metadata": {},
   "outputs": [],
   "source": [
    "import pennylane as qml\n",
    "from qiskit_quantuminspire.qi_provider import QIProvider\n",
    "\n",
    "from pennylane_quantuminspire.qi_device import QIDevice\n"
   ]
  },
  {
   "cell_type": "code",
   "execution_count": 25,
   "id": "3605a45e",
   "metadata": {},
   "outputs": [
    {
     "name": "stdout",
     "output_type": "stream",
     "text": [
      "[<qiskit_quantuminspire.qi_backend.QIBackend object at 0x295a0793af0 (name=QX emulator, id=1)>, <qiskit_quantuminspire.qi_backend.QIBackend object at 0x295a07d1c00 (name=Spin-2+, id=2)>, <qiskit_quantuminspire.qi_backend.QIBackend object at 0x295a052ba00 (name=Starmon-7, id=3)>, <qiskit_quantuminspire.qi_backend.QIBackend object at 0x295a0529e40 (name=Tuna-5, id=4)>, <qiskit_quantuminspire.qi_backend.QIBackend object at 0x295a07921a0 (name=Ry emulator, id=5)>]\n"
     ]
    }
   ],
   "source": [
    "# Show all current supported backends:\n",
    "provider = QIProvider()\n",
    "print(provider.backends())"
   ]
  },
  {
   "cell_type": "code",
   "execution_count": 26,
   "id": "077be77c",
   "metadata": {},
   "outputs": [],
   "source": [
    "backend = provider.get_backend(\"QX emulator\")\n",
    "\n",
    "# Instantiate a Pennylane device based on chosen backend\n",
    "demo_device = QIDevice(backend)"
   ]
  },
  {
   "cell_type": "code",
   "execution_count": 27,
   "id": "066cbbee",
   "metadata": {},
   "outputs": [],
   "source": [
    "@qml.qnode(demo_device)\n",
    "def bell_state():\n",
    "    qml.Hadamard(wires=0)\n",
    "    qml.CNOT(wires=[0, 1])\n",
    "    return [qml.expval(qml.Z(x)) for x in range(2)]"
   ]
  },
  {
   "cell_type": "code",
   "execution_count": 28,
   "id": "f62af9ea",
   "metadata": {},
   "outputs": [
    {
     "name": "stdout",
     "output_type": "stream",
     "text": [
      "[tensor(0.00390625, requires_grad=True), tensor(0.00390625, requires_grad=True)]\n"
     ]
    }
   ],
   "source": [
    "# Execute the circuit\n",
    "result = bell_state()\n",
    "print(result)\n"
   ]
  },
  {
   "cell_type": "code",
   "execution_count": null,
   "id": "f5e6c25a",
   "metadata": {},
   "outputs": [
    {
     "name": "stdout",
     "output_type": "stream",
     "text": [
      "{'0': 488, '1': 536}\n"
     ]
    }
   ],
   "source": [
    "from qiskit import QuantumCircuit, transpile\n",
    "from qiskit_quantuminspire.qi_provider import QIProvider\n",
    "from qiskit import QuantumCircuit\n",
    "import matplotlib.pyplot as plt\n",
    "\n",
    "\n",
    "provider = QIProvider()\n",
    "backend  = provider.get_backend(\"Tuna-5\")      # o \"QX emulator\"\n",
    "\n",
    "qc = QuantumCircuit(1, 1)\n",
    "qc.h(0)\n",
    "\n",
    "qc.measure(0, 0)\n",
    "\n",
    "qc = transpile(qc, backend)\n",
    "job = backend.run(qc, shots=1024)\n",
    "print(job.result().get_counts())\n"
   ]
  }
 ],
 "metadata": {
  "kernelspec": {
   "display_name": "env",
   "language": "python",
   "name": "python3"
  },
  "language_info": {
   "codemirror_mode": {
    "name": "ipython",
    "version": 3
   },
   "file_extension": ".py",
   "mimetype": "text/x-python",
   "name": "python",
   "nbconvert_exporter": "python",
   "pygments_lexer": "ipython3",
   "version": "3.10.5"
  }
 },
 "nbformat": 4,
 "nbformat_minor": 5
}
